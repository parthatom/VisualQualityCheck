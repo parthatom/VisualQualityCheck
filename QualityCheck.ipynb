{
 "cells": [
  {
   "cell_type": "markdown",
   "metadata": {},
   "source": [
    "# Quality check Assignment(1) "
   ]
  },
  {
   "cell_type": "markdown",
   "metadata": {},
   "source": [
    "## Basics"
   ]
  },
  {
   "cell_type": "markdown",
   "metadata": {},
   "source": [
    "Import packages first"
   ]
  },
  {
   "cell_type": "code",
   "execution_count": 1,
   "metadata": {},
   "outputs": [],
   "source": [
    "import cv2\n",
    "import numpy as np\n",
    "import matplotlib.pyplot as plt"
   ]
  },
  {
   "cell_type": "markdown",
   "metadata": {},
   "source": [
    "## Figuring out the limits "
   ]
  },
  {
   "cell_type": "markdown",
   "metadata": {},
   "source": [
    "For filtering the colors in processed and raw food, i used the following function. Running the cell is optional."
   ]
  },
  {
   "cell_type": "code",
   "execution_count": 2,
   "metadata": {},
   "outputs": [],
   "source": [
    "def nothing(x):\n",
    "    pass\n",
    "def filter():\n",
    "    #cap = cv2.VideoCapture(0)\n",
    "    cv2.namedWindow('HSV')\n",
    "    cv2.createTrackbar('low_H', 'HSV', 0, 180, nothing)\n",
    "    cv2.createTrackbar('low_S', 'HSV', 0, 255, nothing)\n",
    "    cv2.createTrackbar('low_V', 'HSV', 0, 255, nothing)\n",
    "    cv2.createTrackbar('high_H', 'HSV', 180, 180, nothing)\n",
    "    cv2.createTrackbar('high_S', 'HSV', 255, 255, nothing)\n",
    "    cv2.createTrackbar('high_V', 'HSV', 255, 255, nothing)\n",
    "    frame = cv2.imread('rawproduct.jpg', -1)\n",
    "    while(True):\n",
    "        #_, frame = cap.read()\n",
    "        hsv = cv2.cvtColor(frame, cv2.COLOR_BGR2HSV)\n",
    "        low_H = cv2.getTrackbarPos('low_H', 'HSV')\n",
    "        low_S = cv2.getTrackbarPos('low_S', 'HSV')\n",
    "        low_V = cv2.getTrackbarPos('low_V', 'HSV')\n",
    "        high_H = cv2.getTrackbarPos('high_H', 'HSV')\n",
    "        high_S = cv2.getTrackbarPos('high_S', 'HSV')\n",
    "        high_V = cv2.getTrackbarPos('high_V', 'HSV')\n",
    "        low_limit = np.array([low_H,low_S,low_V])\n",
    "        high_limit = np.array([high_H,high_S,high_V])\n",
    "        mask = cv2.inRange(hsv, low_limit, high_limit)\n",
    "        #print(low_limit.dtype)\n",
    "        #print(low_limit)\n",
    "        #print(high_limit)\n",
    "        cv2.imshow('HSV',mask)\n",
    "        cv2.imshow('frame', frame)\n",
    "        cv2.imshow('mask', mask)\n",
    "        k=cv2.waitKey(1)\n",
    "        if (k==27):\n",
    "            break\n",
    "    cv2.destroyAllWindows()"
   ]
  },
  {
   "cell_type": "markdown",
   "metadata": {},
   "source": [
    "## Limits checking"
   ]
  },
  {
   "cell_type": "markdown",
   "metadata": {},
   "source": [
    "Checking the limits of the function has been done by this function, again running the cell is optional."
   ]
  },
  {
   "cell_type": "code",
   "execution_count": 3,
   "metadata": {},
   "outputs": [],
   "source": [
    "def checklimits(image):\n",
    "    imglist = image.split()\n",
    "    for img in imglist:\n",
    "        \n",
    "        frame = cv2.imread(img,cv2.IMREAD_COLOR)\n",
    "        hsv = cv2.cvtColor(frame,cv2.COLOR_BGR2HSV)\n",
    "\n",
    "#lower_raw = np.array([16,43,202])\n",
    "#higher_raw = np.array([30,255,255])\n",
    "\n",
    "        lower_raw = np.array([5,110,50])\n",
    "        higher_raw = np.array([180,255,255])\n",
    "\n",
    "        mask = cv2.inRange(frame, lower_raw, higher_raw)\n",
    "        maskinv = cv2.bitwise_not(mask)\n",
    "        res = cv2.bitwise_and(frame, frame, mask = mask)\n",
    "        resinv = cv2.bitwise_and(frame, frame, mask = maskinv)\n",
    "        print(lower_raw.dtype)\n",
    "        cv2.imshow(img+' frame',frame)\n",
    "        cv2.imshow(img+' mask', mask)\n",
    "        cv2.imshow(img+' res', res)\n",
    "        cv2.imshow(img+' resinv', resinv)\n",
    "\n",
    "    cv2.waitKey(0)\n",
    "    cv2.destroyAllWindows()"
   ]
  },
  {
   "cell_type": "markdown",
   "metadata": {},
   "source": [
    "## Image segmentation - The actual stuff begins here"
   ]
  },
  {
   "cell_type": "markdown",
   "metadata": {},
   "source": [
    "Importing the product Image, run the cell before proceeding."
   ]
  },
  {
   "cell_type": "code",
   "execution_count": 4,
   "metadata": {},
   "outputs": [],
   "source": [
    "image = \"processedproduct.png\"\n",
    "frame = cv2.imread(image, cv2.IMREAD_COLOR)"
   ]
  },
  {
   "cell_type": "markdown",
   "metadata": {},
   "source": [
    "Range of the colors to create a mask. Run and Proceed"
   ]
  },
  {
   "cell_type": "code",
   "execution_count": 5,
   "metadata": {},
   "outputs": [],
   "source": [
    "lower_prod=np.array([5,110,50])\n",
    "higher_prod = np.array([180,255,255])"
   ]
  },
  {
   "cell_type": "markdown",
   "metadata": {},
   "source": [
    "Converting to HSV and applying the mask."
   ]
  },
  {
   "cell_type": "code",
   "execution_count": 6,
   "metadata": {},
   "outputs": [],
   "source": [
    "#contour detection\n",
    "\n",
    "\n",
    "#blurred = cv2.GaussianBlur(frame,(41,41),cv2.BORDER_DEFAULT)\n",
    "#gray = cv2.cvtColor(blurred,cv2.COLOR_BGR2GRAY)\n",
    "\n",
    "#_,threshold = cv2.threshold(gray,0, 255, cv2.THRESH_BINARY+cv2.THRESH_OTSU)\n",
    "#cannyd = cv2.Canny(frame, 50,100)\n",
    "\n",
    "hsv = cv2.cvtColor(frame,cv2.COLOR_BGR2HSV)\n",
    "mask = cv2.inRange(hsv,lower_prod, higher_prod)\n",
    "maskinv =  cv2.bitwise_not(mask)"
   ]
  },
  {
   "cell_type": "markdown",
   "metadata": {},
   "source": [
    "Performing dilation followed by erosion (also known as opening) to separate the Chips."
   ]
  },
  {
   "cell_type": "code",
   "execution_count": 7,
   "metadata": {},
   "outputs": [],
   "source": [
    "#blurred = cv2.medianBlur(maskinv, 5)\n",
    "kernel = np.ones((15,15), np.uint8)\n",
    "#opening = cv2.morphologyEx(blurred,cv2.MORPH_CLOSE, kernel)\n",
    "dilating =cv2.dilate(maskinv, kernel, iterations = 1)\n",
    "opening = cv2.erode(dilating, kernel, iterations =1)\n"
   ]
  },
  {
   "cell_type": "markdown",
   "metadata": {},
   "source": [
    "Finding all the contours on the mask obtained."
   ]
  },
  {
   "cell_type": "code",
   "execution_count": 8,
   "metadata": {},
   "outputs": [],
   "source": [
    "#contours, _ =cv2.findContours(blurred, cv2.RETR_LIST, cv2.CHAIN_APPROX_NONE)\n",
    "contours, _ =cv2.findContours(opening, cv2.RETR_TREE,cv2.CHAIN_APPROX_NONE)\n",
    "#contours, _ = cv2.findContours(threshold, cv2.RETR_LIST, cv2.CHAIN_APPROX_NONE)\n",
    "#contourscany,_ = cv2.findContours(cannyd, cv2.RETR_LIST, cv2.CHAIN_APPROX_NONE)\n",
    "#print(\"Number of contours detected\", len(contours))\n",
    "#print(\"Number of canny contours\",len(contourscany))\n",
    "\n",
    "#cv2.drawContours(frame, contours,-1,(0,0,255),2)\n",
    "#cv2.drawContours(frame, contourscany, -1,(0,0,255),2)\n",
    "#cv2.imshow('threshold',threshold)"
   ]
  },
  {
   "cell_type": "markdown",
   "metadata": {},
   "source": [
    "Drawing the useful contours, and storing their values such as bounding rectangles and area of contours"
   ]
  },
  {
   "cell_type": "code",
   "execution_count": 9,
   "metadata": {},
   "outputs": [],
   "source": [
    "totcontour =0\n",
    "rectlist=[]\n",
    "rectpoints=(0,0,0,0)\n",
    "font =cv2.FONT_HERSHEY_SIMPLEX\n",
    "arealist=[]\n",
    "#hull_list=[]\n",
    "for contour in contours:\n",
    "    area=cv2.contourArea(contour)\n",
    "    arealist.append(area)\n",
    "    if(area>50 and area<10000):\n",
    "        cv2.drawContours(frame,contour,-1, (0,0,255),1)\n",
    "        totcontour +=1\n",
    "        cv2.putText(frame, str(totcontour),(rectpoints[0],rectpoints[1]),font,1,(0,255,255),1)\n",
    "        rectpoints=cv2.boundingRect(contour)\n",
    "        rectlist.append(rectpoints)\n",
    "        #print(rectpoints)\n",
    "        \"\"\"hull = cv2.convexHull(contour,returnPoints = False)\n",
    "        hull_list.append(hull)\"\"\"\n",
    "        #print(\"new :\",hull)\n",
    "        #defects = cv2.convexityDefects(contour,hull)\n",
    "        #print(defects)\n",
    "        \"\"\"major_defect=[]\n",
    "        for defect in defects:\n",
    "            if(defect[3]>20):\n",
    "                major_defect.append(defect[2])\n",
    "        major_defect=np.array(major_defect)\n",
    "        if(len(major_defect)==2):\n",
    "            diff=[ np.absolute( major_defect[0][i] - major_def[1][i] ) for i in range(2)]\n",
    "            if(diff[0]>diff[1]):\n",
    "                major_defect[1][1]=major_defect[0][1]                            \n",
    "            else:\n",
    "                major_defect[1][0]=major_defect[0][0] \"\"\"\n",
    "                \n",
    "        #cv2.polylines(frame, hull, True,(255,0,0),5)\n",
    "        \n",
    "        #cv2.drawContours(frame,hull,-1,(255,0,0),6)        \n",
    "        cv2.rectangle(frame,rectpoints,(255,0,0),1)"
   ]
  },
  {
   "cell_type": "markdown",
   "metadata": {},
   "source": [
    "Displaying and storing the contours and the processed images"
   ]
  },
  {
   "cell_type": "code",
   "execution_count": 10,
   "metadata": {},
   "outputs": [],
   "source": [
    "#print(len(hull_list))\n",
    "#print(\"NUmber of cann contours =\", totcontour)\n",
    "cv2.imshow('frame',frame)\n",
    "cv2.imwrite('frame.jpg',frame)\n",
    "#cv2.imshow('blurred', blurred)\n",
    "#cv2.imshow('gray', gray)\n",
    "cv2.imshow('mask', mask)\n",
    "cv2.imwrite('mask.jpg',mask)\n",
    "cv2.imshow('maskinv',maskinv)\n",
    "cv2.imwrite('maskinv.jpg',maskinv)\n",
    "cv2.imshow('dilated',dilating)\n",
    "cv2.imwrite('dilated.jpg',dilating)\n",
    "cv2.imshow('opened', opening)\n",
    "cv2.imwrite('opened.jpg',opening)\n",
    "cv2.waitKey(0)\n",
    "cv2.destroyAllWindows()"
   ]
  },
  {
   "cell_type": "markdown",
   "metadata": {},
   "source": [
    "Running the above cell you'll see one of these pop up. "
   ]
  },
  {
   "cell_type": "markdown",
   "metadata": {},
   "source": [
    "![title](frame.jpg)\n"
   ]
  },
  {
   "cell_type": "markdown",
   "metadata": {},
   "source": [
    "Hence the images have been segmented.(24/25 chips were detected)"
   ]
  },
  {
   "cell_type": "markdown",
   "metadata": {},
   "source": [
    "## Extracting individual chips"
   ]
  },
  {
   "cell_type": "code",
   "execution_count": 11,
   "metadata": {},
   "outputs": [],
   "source": [
    "newframe = cv2.imread(image, -1)\n",
    "newres = cv2.bitwise_and(newframe, newframe, mask = mask)\n",
    "cv2.imshow('res',newres)\n",
    "cv2.waitKey(0)\n",
    "cv2.destroyAllWindows()\n",
    "roilist=[]\n",
    "roinum=0\n",
    "for rect in rectlist:\n",
    "    roi=newres[rect[1]:rect[1]+rect[3],rect[0]:rect[0]+rect[2]]\n",
    "    roinum+=1\n",
    "    roilist.append(roi)\n",
    "    #totroi.concatenate\n",
    "    cv2.imshow(\"roi\",roi)\n",
    "    cv2.imwrite(\"roi\"+str(roinum)+\".jpg\",roi)\n",
    "    cv2.waitKey(0)\n",
    "cv2.destroyAllWindows()\n",
    "cv2.imshow(\"new frame\",newframe)\n",
    "cv2.waitKey(0)\n",
    "cv2.destroyAllWindows()"
   ]
  },
  {
   "cell_type": "markdown",
   "metadata": {},
   "source": [
    "The first three detected chips are:\n",
    "<img src=\"roi1.jpg\" alt=\"region of interest of 1st chip\" /><img src=\"roi2.jpg\" alt=\"region of interest of 2nd chip\" /><img src=\"roi3.jpg\" alt=\"region of interest of 3rd chip\" />"
   ]
  },
  {
   "cell_type": "markdown",
   "metadata": {},
   "source": [
    "## Classifying the chips - Rejected/Accepted"
   ]
  },
  {
   "cell_type": "markdown",
   "metadata": {},
   "source": [
    "This will be done on the following 2 categories:\n",
    "<ul>\n",
    "    <li>If the ratio of area of red color on the chip to the total area of red and white color is greater than 0.68 then it accepted otherwise it is rejected.</li>\n",
    "    <li>If there is any other color on the chip then it is rejected.(the only color considered here is green because it is next most likely to be present) </li>\n",
    "</ul>\n",
    "<hr>"
   ]
  },
  {
   "cell_type": "markdown",
   "metadata": {},
   "source": [
    "Initially every chip is considered to be accepted."
   ]
  },
  {
   "cell_type": "code",
   "execution_count": 12,
   "metadata": {},
   "outputs": [],
   "source": [
    "acceplist = np.ones((24,1),dtype=np.uint8)"
   ]
  },
  {
   "cell_type": "markdown",
   "metadata": {},
   "source": [
    "## Area Calculation"
   ]
  },
  {
   "cell_type": "markdown",
   "metadata": {},
   "source": [
    "The color limits used for area calculation"
   ]
  },
  {
   "cell_type": "code",
   "execution_count": 13,
   "metadata": {},
   "outputs": [],
   "source": [
    "lower_red=np.array([0,175,105])\n",
    "upper_red=np.array([40,255,255])"
   ]
  },
  {
   "cell_type": "markdown",
   "metadata": {},
   "source": [
    "Calculating the area of white and red separately using limits found"
   ]
  },
  {
   "cell_type": "code",
   "execution_count": 14,
   "metadata": {},
   "outputs": [
    {
     "name": "stdout",
     "output_type": "stream",
     "text": [
      "ratio 0.007254592692692274\n",
      "ratio 0.5788408463661453\n",
      "ratio 0.34898368164901233\n",
      "ratio 1.0958049886621315\n",
      "ratio 0.5914558914250463\n",
      "ratio 1.0947965941343425\n",
      "ratio 0.11264964661762585\n",
      "ratio 0.526514704145506\n",
      "ratio 1.4861451460885957\n",
      "ratio 0.45107705497803025\n",
      "ratio 0.5821450712957222\n",
      "ratio 0.43964702174598175\n",
      "ratio 0.01846772718961419\n",
      "ratio 0.7452675510508272\n",
      "ratio 0.33156460633873513\n",
      "ratio 0.35251482538985285\n",
      "ratio 0.001694915254237288\n",
      "ratio 0.7250569476082005\n",
      "ratio 0.5117222723174031\n",
      "ratio 2.626797249426964\n",
      "ratio 0.04691664084288813\n",
      "ratio 0.008451957295373666\n",
      "ratio 0.20975710168793743\n",
      "ratio 0.006673436819962281\n"
     ]
    },
    {
     "data": {
      "text/plain": [
       "'cv2.imshow(\"frame\",frame)\\ncv2.waitKey(0)\\ncv2.destroyAllWindows()'"
      ]
     },
     "execution_count": 14,
     "metadata": {},
     "output_type": "execute_result"
    }
   ],
   "source": [
    "newhsv = cv2.cvtColor(newframe, cv2.COLOR_BGR2HSV)\n",
    "\"\"\"redmask = cv2.inRange(newhsv, lower_red, upper_red)\n",
    "redmaskinv=cv2.bitwise_not(redmask)\n",
    "for rect in rectlist:\n",
    "    cv2.rectangle(redmask,rect,(255,255,255),2)\n",
    "redmaskinv=cv2.bitwise_not(redmask)\n",
    "\n",
    "cv2.imshow(\"red mask\",redmask)\n",
    "cv2.imshow(\"red mask inverse\",redmaskinv)\"\"\"\n",
    "\n",
    "arearedlist=[]\n",
    "ratiolist=[]\n",
    "for i in range(len(roilist)):\n",
    "    roi = roilist[i]\n",
    "    totA = arealist[i]\n",
    "    rect = rectlist[i]\n",
    "    roihsv=cv2.cvtColor(roi,cv2.COLOR_BGR2HSV)\n",
    "    roimask = cv2.inRange(roihsv,lower_red,upper_red)\n",
    "    roires = cv2.bitwise_and(roi,roi,mask=roimask)    \n",
    "    controi, _ = cv2.findContours(roimask,cv2.RETR_LIST, cv2.CHAIN_APPROX_SIMPLE)\n",
    "    cv2.drawContours(roires,controi, -1,(255,0,0),1)\n",
    "    summ = 0\n",
    "    for cont in controi:\n",
    "        arroi = cv2.contourArea(cont)\n",
    "        summ=summ+arroi\n",
    "    arearedlist.append(summ)\n",
    "    ratiolist.append(summ/totA)\n",
    "    cv2.imshow(\"res roi\",roires)\n",
    "    cv2.waitKey(0)\n",
    "    cv2.destroyAllWindows()\n",
    "    #print(\"red area\",summ)\n",
    "    print(\"ratio\",ratiolist[i])\n",
    "\n",
    "\"\"\"cv2.imshow(\"frame\",frame)\n",
    "cv2.waitKey(0)\n",
    "cv2.destroyAllWindows()\"\"\""
   ]
  },
  {
   "cell_type": "markdown",
   "metadata": {},
   "source": [
    "# Detecting mossy/unhealthy chips"
   ]
  },
  {
   "cell_type": "markdown",
   "metadata": {},
   "source": [
    "Green color is an indication of moss and is generally thought to be unhygenic<hr>Range for green color"
   ]
  },
  {
   "cell_type": "code",
   "execution_count": 15,
   "metadata": {},
   "outputs": [],
   "source": [
    "sensitivity = 1\n",
    "lower_green = np.array([60 - sensitivity, 100, 50])\n",
    "upper_green = np.array([60 + sensitivity, 255, 255])"
   ]
  },
  {
   "cell_type": "markdown",
   "metadata": {},
   "source": [
    "If green is detected, we'll be rejecting it with utmost priority."
   ]
  },
  {
   "cell_type": "code",
   "execution_count": 16,
   "metadata": {},
   "outputs": [],
   "source": [
    "isgreenlist=[]\n",
    "for roi in roilist:\n",
    "    roigreenmask = cv2.inRange(roi,lower_green, upper_green)\n",
    "    #cv2.imshow(\"green roi mask\", roigreenmask)\n",
    "    if(cv2.countNonZero(roigreenmask)>10):\n",
    "        isgreenlist.append(1)\n",
    "    else:\n",
    "        isgreenlist.append(0)\n",
    "    #cv2.waitKey(0)\n",
    "    #cv2.destroyAllWindows()\n",
    "    "
   ]
  },
  {
   "cell_type": "markdown",
   "metadata": {},
   "source": [
    "Rejecting the chips that don't fit the criteria."
   ]
  },
  {
   "cell_type": "code",
   "execution_count": 17,
   "metadata": {},
   "outputs": [],
   "source": [
    "for i in range(len(roilist)):\n",
    "    if(isgreenlist[i]==0 or ratiolist[i]<0.68):\n",
    "        acceplist[i]=0\n",
    "#print(acceplist)"
   ]
  },
  {
   "cell_type": "markdown",
   "metadata": {},
   "source": [
    "Printing this info on the frame."
   ]
  },
  {
   "cell_type": "code",
   "execution_count": 18,
   "metadata": {},
   "outputs": [],
   "source": [
    "for i in range(len(acceplist)):\n",
    "    if(acceplist[i]==1):\n",
    "        cv2.putText(frame,\"Accepted\",(rectlist[i][0]+rectlist[i][2]//2,rectlist[i][1]+rectlist[i][3]//2),font,0.75,(0,0,255),1)\n",
    "    else:\n",
    "        cv2.putText(frame,\"Rejected\",(rectlist[i][0]+rectlist[i][2]//2,rectlist[i][1]+rectlist[i][3]//2),font,0.75,(0,0,255),1)\n"
   ]
  },
  {
   "cell_type": "markdown",
   "metadata": {},
   "source": [
    "Displaying the final Result(and storing)."
   ]
  },
  {
   "cell_type": "code",
   "execution_count": 19,
   "metadata": {},
   "outputs": [],
   "source": [
    "cv2.imshow(\"frame\", frame)\n",
    "cv2.imwrite(\"result.jpg\",frame)\n",
    "cv2.waitKey(0)\n",
    "cv2.destroyAllWindows()"
   ]
  },
  {
   "cell_type": "markdown",
   "metadata": {},
   "source": [
    "![title](result.jpg)"
   ]
  },
  {
   "cell_type": "markdown",
   "metadata": {},
   "source": [
    "## Without the green color"
   ]
  },
  {
   "cell_type": "markdown",
   "metadata": {},
   "source": [
    "(Temporary)The ranges found for the green color at present is buggy and requires further efforts. Hence the final result has been evaluated in a manner such that the test for green color has been neglected. The following cells will produce the actual result. (Printed in green) "
   ]
  },
  {
   "cell_type": "code",
   "execution_count": 20,
   "metadata": {},
   "outputs": [],
   "source": [
    "for i in range(len(roilist)):\n",
    "    if(isgreenlist[i]==1 or ratiolist[i]<0.68):\n",
    "        acceplist[i]=0\n",
    "#print(acceplist)"
   ]
  },
  {
   "cell_type": "code",
   "execution_count": 21,
   "metadata": {},
   "outputs": [],
   "source": [
    "for i in range(len(acceplist)):\n",
    "    if(acceplist[i]==1):\n",
    "        cv2.putText(frame,\"Accepted\",(rectlist[i][0]+rectlist[i][2]//2,rectlist[i][1]+rectlist[i][3]//2),font,0.5,(0,255,0),1)\n",
    "    else:\n",
    "        cv2.putText(frame,\"Rejected\",(rectlist[i][0]+rectlist[i][2]//2,rectlist[i][1]+rectlist[i][3]//2),font,0.5,(0,255,0),1)\n"
   ]
  },
  {
   "cell_type": "code",
   "execution_count": 22,
   "metadata": {},
   "outputs": [],
   "source": [
    "cv2.imshow(\"frame\", frame)\n",
    "cv2.imwrite(\"resultorg.jpg\",frame)\n",
    "cv2.waitKey(0)\n",
    "cv2.destroyAllWindows()"
   ]
  },
  {
   "cell_type": "markdown",
   "metadata": {},
   "source": [
    "![title](resultorg.jpg)"
   ]
  },
  {
   "cell_type": "code",
   "execution_count": null,
   "metadata": {},
   "outputs": [],
   "source": []
  }
 ],
 "metadata": {
  "kernelspec": {
   "display_name": "Python 3",
   "language": "python",
   "name": "python3"
  },
  "language_info": {
   "codemirror_mode": {
    "name": "ipython",
    "version": 3
   },
   "file_extension": ".py",
   "mimetype": "text/x-python",
   "name": "python",
   "nbconvert_exporter": "python",
   "pygments_lexer": "ipython3",
   "version": "3.6.8"
  }
 },
 "nbformat": 4,
 "nbformat_minor": 2
}
